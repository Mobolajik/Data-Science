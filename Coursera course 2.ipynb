{
 "cells": [
  {
   "cell_type": "markdown",
   "id": "1a0aa95d",
   "metadata": {},
   "source": [
    "Data Science Tools and Ecosystem"
   ]
  },
  {
   "cell_type": "markdown",
   "id": "12e86d21",
   "metadata": {},
   "source": [
    "In this notebook, Data Science Tools and Ecosystem are summarized."
   ]
  },
  {
   "cell_type": "markdown",
   "id": "7b975985",
   "metadata": {},
   "source": [
    " These are some of the languauges used in data science:<BR>\n",
    "    1. R Languauge <br>\n",
    "    2. Python<br>\n",
    "    3. SQL <br>\n",
    "    4. Scala <br>\n",
    "    5. Java"
   ]
  },
  {
   "cell_type": "markdown",
   "id": "dbaf3cff",
   "metadata": {},
   "source": [
    "The common libraries are: <br>\n",
    "1. Panda <br>\n",
    "2. Numpy <br>\n",
    "3. Tensorflow <br>\n",
    "4. Matplotlib<br>\n",
    "5. Scipy"
   ]
  },
  {
   "cell_type": "markdown",
   "id": "79485e31",
   "metadata": {},
   "source": [
    "\n",
    "|Data Science Tools|\n",
    "---\n",
    "| Python|  \n",
    "|Tensor Flow| \n",
    "|Matlab|\n",
    "|Excel|\n",
    "|Tableau|\n"
   ]
  },
  {
   "cell_type": "markdown",
   "id": "e786a0e7",
   "metadata": {},
   "source": [
    "\n",
    "|aithmetic expressions| example|\n",
    "|---------------------|--------|\n",
    "|addition| 2+2|\n",
    "|subtraction| 4-2|\n",
    "|division| 4/2|\n",
    "multiplication|2*2 |"
   ]
  },
  {
   "cell_type": "code",
   "execution_count": 1,
   "id": "20f22ba6",
   "metadata": {},
   "outputs": [
    {
     "data": {
      "text/plain": [
       "10"
      ]
     },
     "execution_count": 1,
     "metadata": {},
     "output_type": "execute_result"
    }
   ],
   "source": [
    "2+4*2"
   ]
  },
  {
   "cell_type": "code",
   "execution_count": 2,
   "id": "a9777559",
   "metadata": {
    "scrolled": true
   },
   "outputs": [
    {
     "name": "stdout",
     "output_type": "stream",
     "text": [
      "Enter the number of hours : 9\n",
      "540\n"
     ]
    }
   ],
   "source": [
    "#convert hours to minutes\n",
    "num_hour=int(input(\"Enter the number of hours : \"))\n",
    "num_minute= num_hour* 60\n",
    "print(num_minute)"
   ]
  },
  {
   "cell_type": "markdown",
   "id": "6eea5446",
   "metadata": {},
   "source": [
    "Objectives of this Course:<br>\n",
    "1.Introduction to data science<br>\n",
    "2. Libraries used in data science <br>\n",
    "3. Tools for data Science"
   ]
  },
  {
   "cell_type": "markdown",
   "id": "6a1df710",
   "metadata": {},
   "source": [
    "Author details: Khayrah Adekilekun"
   ]
  }
 ],
 "metadata": {
  "kernelspec": {
   "display_name": "Python 3 (ipykernel)",
   "language": "python",
   "name": "python3"
  },
  "language_info": {
   "codemirror_mode": {
    "name": "ipython",
    "version": 3
   },
   "file_extension": ".py",
   "mimetype": "text/x-python",
   "name": "python",
   "nbconvert_exporter": "python",
   "pygments_lexer": "ipython3",
   "version": "3.10.9"
  }
 },
 "nbformat": 4,
 "nbformat_minor": 5
}
